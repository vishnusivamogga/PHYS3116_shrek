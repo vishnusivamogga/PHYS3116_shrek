{
 "cells": [
  {
   "cell_type": "markdown",
<<<<<<< HEAD
   "id": "31f4a96c",
   "metadata": {},
   "source": [
    "## MEETING MINUTES ##\n",
    "**Meeting 1** - 18/09/2025, 9.50 pm\n",
    "**Meeting duration:** 25 minutes\n",
    "**Agenda:**\n",
    "Read the assessment briefing\n",
    "Distribute the workload\n",
    "Set deadline \n",
    "Install and get used to github and VS code and create a notebook for the code\n",
    "\n",
    "Attendance: Vishnu and Sarvpreet\n",
    "Meeting notes\n",
    "Workload distribution\n",
    "In this assignment, we aim to use the Harris Catalogue of Milky Way globular clusters to extract data about the dynamics and stellar populations to see if it is possible to identify accreted GC's with their characteristic metallicities and ages. In the second part, we will identify if there are any clusters that stand out in the age-metallicity relation or that do not rotate with the bulk of any other GC's. \n",
    "\n",
    "Using this quantitative information we will aim to determine the ramifications of these accretion events in the formation process of the Milky Way, and quantify the number of GC's that may have formed within the Milky Way. As a conclusion, we will outline the following tests, which could be used to identify the possible GC formation scenarios within the Milky Way. \n",
    "\n",
    "Action items for next thursday’s meeting\n",
    "Sketch out the details of the problem - what are the characteristic features of GC’s to look for, what are the mechanics of the accretion, what signs does accretion leave, the contents of the CSV data [BOTH SAV AND VISHNU]\n",
    "Begin coding (3 lines of code!) \n"
=======
   "id": "858e0650",
   "metadata": {},
   "source": [
    "# Week 2\n",
    "Vish generated plots for Energy and Angular momentum using data Galpy. After Energy and Angular momentum was plotted, an initial cut by figuring that the retrograde GCs and higher energies are more likely to be accreted GCs. This cut revealed around 42 GCs excluding some clear outliers which is our initial estimate for the accreted GCs \n",
    "## Sarv\n",
    "### Next week Agenda\n",
    "\n",
    "Make Age-Metalicity plot\n",
    "\n",
    "From this try find a cut to using research\n",
    "\n",
    "also compare with the accreted GCs foundin Vish's plot\n",
    "\n",
    "### lines of code\n",
    "\n",
    "import pandas as pd\n",
    "import matplotlib.pyplot as plt\n",
    "\n",
    "harrisP1 = pd.read_csv(\"HarrisPartI.csv\")\n",
    "\n",
    "harrisP3 = pd.read_csv(\"HarrisPartIII.csv\")\n",
    "\n",
    "Krause = pd.read_csv(\"Krause21.csv\")\n",
    "\n",
    "VandenBerg = pd.read_csv(\"vandenBerg_table2.csv\")\n",
    "\n",
    "Krause.plot(kind = 'scatter', x ='FeH',y='Age')\n",
    "\n",
    "VandenBerg.plot(kind = 'scatter', x ='FeH',y='Age')\n",
    "\n",
    "\n",
    "## Vish\n"
>>>>>>> 6189c21aa52c24e5d11a52bcfd808be7ea26838a
   ]
  }
 ],
 "metadata": {
  "language_info": {
   "name": "python"
  }
 },
 "nbformat": 4,
 "nbformat_minor": 5
}
