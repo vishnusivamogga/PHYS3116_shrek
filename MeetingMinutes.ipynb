{
 "cells": [
  {
   "cell_type": "markdown",
   "id": "858e0650",
   "metadata": {},
   "source": [
    "# Week 2\n",
    "Vish generated plots for Energy and Angular momentum using data Galpy. After Energy and Angular momentum was plotted, an initial cut by figuring that the retrograde GCs and higher energies are more likely to be accreted GCs. This cut revealed around 37 GCs excluding some clear outliers which is our initial estimate for the accreted GCs \n",
    "## Sarv\n",
    "Next week Agenda\n",
    "Make Age-Metalicity plot\n",
    "From this try find a cut to using research\n",
    "also compare with the accreted GCs foundin Vish's plot\n",
    "\n",
    "lines of code\n",
    "\n",
    "import pandas as pd\n",
    "import matplotlib.pyplot as plt\n",
    "\n",
    "harrisP1 = pd.read_csv(\"HarrisPartI.csv\")\n",
    "harrisP3 = pd.read_csv(\"HarrisPartIII.csv\")\n",
    "Krause = pd.read_csv(\"Krause21.csv\")\n",
    "VandenBerg = pd.read_csv(\"vandenBerg_table2.csv\")\n",
    "Krause.plot(kind = 'scatter', x ='FeH',y='Age')\n",
    "VandenBerg.plot(kind = 'scatter', x ='FeH',y='Age')\n",
    "\n",
    "## Vish\n"
   ]
  }
 ],
 "metadata": {
  "language_info": {
   "name": "python"
  }
 },
 "nbformat": 4,
 "nbformat_minor": 5
}
