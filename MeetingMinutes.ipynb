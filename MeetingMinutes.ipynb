{
 "cells": [
  {
   "cell_type": "markdown",
   "id": "858e0650",
   "metadata": {},
   "source": [
    "# Week 2\n",
    "## Sarv\n",
    "\n",
    "## Vish"
   ]
  }
 ],
 "metadata": {
  "language_info": {
   "name": "python"
  }
 },
 "nbformat": 4,
 "nbformat_minor": 5
}
