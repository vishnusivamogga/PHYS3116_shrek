{
 "cells": [
  {
   "cell_type": "markdown",
   "id": "31f4a96c",
   "metadata": {},
   "source": [
    "## MEETING MINUTES ##\n",
    "**Meeting 1** - 18/09/2025, 9.50 pm\n",
    "**Meeting duration:** 25 minutes\n",
    "**Agenda:**\n",
    "Read the assessment briefing\n",
    "Distribute the workload\n",
    "Set deadline \n",
    "Install and get used to github and VS code and create a notebook for the code\n",
    "\n",
    "Attendance: Vishnu and Sarvpreet\n",
    "Meeting notes\n",
    "Workload distribution\n",
    "In this assignment, we aim to use the Harris Catalogue of Milky Way globular clusters to extract data about the dynamics and stellar populations to see if it is possible to identify accreted GC's with their characteristic metallicities and ages. In the second part, we will identify if there are any clusters that stand out in the age-metallicity relation or that do not rotate with the bulk of any other GC's. \n",
    "\n",
    "Using this quantitative information we will aim to determine the ramifications of these accretion events in the formation process of the Milky Way, and quantify the number of GC's that may have formed within the Milky Way. As a conclusion, we will outline the following tests, which could be used to identify the possible GC formation scenarios within the Milky Way. \n",
    "\n",
    "Action items for next thursday’s meeting\n",
    "Sketch out the details of the problem - what are the characteristic features of GC’s to look for, what are the mechanics of the accretion, what signs does accretion leave, the contents of the CSV data [BOTH SAV AND VISHNU]\n",
    "Begin coding (3 lines of code!) \n"
   ]
  }
 ],
 "metadata": {
  "language_info": {
   "name": "python"
  }
 },
 "nbformat": 4,
 "nbformat_minor": 5
}
